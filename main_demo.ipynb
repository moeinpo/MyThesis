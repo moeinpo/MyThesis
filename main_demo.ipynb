{
 "cells": [
  {
   "cell_type": "code",
   "execution_count": 3,
   "metadata": {},
   "outputs": [],
   "source": [
    "\n",
    "import os\n",
    "from Datasets import Dataset\n",
    "from Split import train_test_split\n",
    "import pandas as pd\n",
    "from Algs import SVD,NMF,ULV,ULV_PSO\n",
    "import accuracy\n",
    "import numpy as np\n",
    "from ulv_tools import hulv\n",
    "\n",
    "data_storage = 'Datasets'\n",
    "file_name = 'MovieLens_100k.txt'\n",
    "\n",
    "# get current working directory\n",
    "cwd = os.getcwd()\n",
    "file_path = os.path.join(cwd,data_storage,file_name)\n",
    "\n",
    "\n",
    "def MovieLens_reader(file_path):\n",
    "    column_names = ['user id','movie id','rating','timestamp']\n",
    "    df = pd.read_csv(file_path,sep='\\t',header=None,names=column_names)\n",
    "    return df\n",
    "reader = MovieLens_reader\n",
    "\n",
    "# load dataset\n",
    "data = Dataset.load_from_file(file_path,reader)\n",
    "\n",
    "\n",
    "# split dataset to test and train\n",
    "trainset,testset = train_test_split(data,test_size=0.1)\n"
   ]
  },
  {
   "cell_type": "code",
   "execution_count": 4,
   "metadata": {},
   "outputs": [
    {
     "name": "stdout",
     "output_type": "stream",
     "text": [
      "Processing epoch 0\n",
      "mse =  1.2284518777473976\n",
      "Processing epoch 1\n",
      "mse =  1.1696853825518176\n",
      "Processing epoch 2\n",
      "mse =  1.1257020600920864\n",
      "Processing epoch 3\n",
      "mse =  1.0917343960504118\n",
      "Processing epoch 4\n",
      "mse =  1.0647863365635069\n",
      "Processing epoch 5\n",
      "mse =  1.0429133300152398\n",
      "Processing epoch 6\n",
      "mse =  1.024812587937944\n",
      "Processing epoch 7\n",
      "mse =  1.0095846114062805\n",
      "Processing epoch 8\n",
      "mse =  0.9965909180756614\n",
      "Processing epoch 9\n",
      "mse =  0.9853668874286249\n",
      "Processing epoch 10\n",
      "mse =  0.9755668932128593\n",
      "Processing epoch 11\n",
      "mse =  0.9669288088238174\n",
      "Processing epoch 12\n",
      "mse =  0.9592504337415112\n",
      "Processing epoch 13\n",
      "mse =  0.9523734459970916\n",
      "Processing epoch 14\n",
      "mse =  0.9461722274414729\n",
      "Processing epoch 15\n",
      "mse =  0.940545921079901\n",
      "Processing epoch 16\n",
      "mse =  0.9354126811044235\n",
      "Processing epoch 17\n",
      "mse =  0.93070544158543\n",
      "Processing epoch 18\n",
      "mse =  0.9263687568709337\n",
      "Processing epoch 19\n",
      "mse =  0.9223564111300563\n",
      "Processing epoch 20\n",
      "mse =  0.9186295883088194\n",
      "Processing epoch 21\n",
      "mse =  0.91515545600525\n",
      "Processing epoch 22\n",
      "mse =  0.9119060588472905\n",
      "Processing epoch 23\n",
      "mse =  0.9088574458978863\n",
      "Processing epoch 24\n",
      "mse =  0.9059889768368534\n",
      "Processing epoch 25\n",
      "mse =  0.9032827660041167\n",
      "Processing epoch 26\n",
      "mse =  0.9007232336824369\n",
      "Processing epoch 27\n",
      "mse =  0.8982967414781983\n",
      "Processing epoch 28\n",
      "mse =  0.8959912941522329\n",
      "Processing epoch 29\n",
      "mse =  0.8937962943289549\n"
     ]
    }
   ],
   "source": [
    "\n",
    "alg = SVD(n_epochs=30,n_factors=10,lr_all=.0005,biased=True,random_state=1,verbose=True)\n",
    "alg.fit(trainset)\n",
    "SVD_predictions = alg.test(testset)"
   ]
  },
  {
   "cell_type": "code",
   "execution_count": 5,
   "metadata": {},
   "outputs": [
    {
     "name": "stdout",
     "output_type": "stream",
     "text": [
      "RMSE: 0.9672\n",
      "MAE:  0.7669\n"
     ]
    },
    {
     "data": {
      "text/plain": [
       "np.float64(0.7669487712164973)"
      ]
     },
     "execution_count": 5,
     "metadata": {},
     "output_type": "execute_result"
    }
   ],
   "source": [
    "accuracy.rmse(SVD_predictions)\n",
    "accuracy.mae(SVD_predictions)\n"
   ]
  },
  {
   "cell_type": "code",
   "execution_count": 6,
   "metadata": {},
   "outputs": [
    {
     "name": "stdout",
     "output_type": "stream",
     "text": [
      "Processing epoch 0\n",
      "mse =  2.0401009578517524\n",
      "Processing epoch 1\n",
      "mse =  1.1999146733778208\n",
      "Processing epoch 2\n",
      "mse =  1.0321710712941845\n",
      "Processing epoch 3\n",
      "mse =  1.0850566890299917\n",
      "Processing epoch 4\n",
      "mse =  0.9661639513959303\n",
      "Processing epoch 5\n",
      "mse =  1.0276308919028252\n",
      "Processing epoch 6\n",
      "mse =  0.9201685536442591\n",
      "Processing epoch 7\n",
      "mse =  0.9825399057235236\n",
      "Processing epoch 8\n",
      "mse =  0.8837656397638697\n",
      "Processing epoch 9\n",
      "mse =  0.9453689953082985\n"
     ]
    }
   ],
   "source": [
    "alg = NMF(n_epochs=10,verbose=True)\n",
    "alg.fit(trainset)\n",
    "NMF_predictions = alg.test(testset)"
   ]
  },
  {
   "cell_type": "code",
   "execution_count": 7,
   "metadata": {},
   "outputs": [
    {
     "name": "stdout",
     "output_type": "stream",
     "text": [
      "RMSE: 1.0079\n",
      "MAE:  0.7780\n"
     ]
    },
    {
     "data": {
      "text/plain": [
       "np.float64(0.7779957664735263)"
      ]
     },
     "execution_count": 7,
     "metadata": {},
     "output_type": "execute_result"
    }
   ],
   "source": [
    "accuracy.rmse(NMF_predictions)\n",
    "accuracy.mae(NMF_predictions)\n",
    "\n"
   ]
  },
  {
   "cell_type": "code",
   "execution_count": 17,
   "metadata": {},
   "outputs": [
    {
     "name": "stdout",
     "output_type": "stream",
     "text": [
      "Processing epoch 0\n",
      "mse =  1.0859181871273704\n",
      "Processing epoch 1\n",
      "mse =  0.9571193599210142\n",
      "Processing epoch 2\n",
      "mse =  0.9176624227003777\n",
      "Processing epoch 3\n",
      "mse =  0.8973401314094062\n",
      "Processing epoch 4\n",
      "mse =  0.8846484941765603\n",
      "Processing epoch 5\n",
      "mse =  0.875923064474209\n",
      "Processing epoch 6\n",
      "mse =  0.8695685764472267\n",
      "Processing epoch 7\n",
      "mse =  0.8647525033025002\n",
      "Processing epoch 8\n",
      "mse =  0.8609881863044377\n",
      "Processing epoch 9\n",
      "mse =  0.8579683748273563\n"
     ]
    }
   ],
   "source": [
    "alg = ULV(n_epochs=10,n_factors=5,verbose=True)\n",
    "alg.fit(trainset)\n",
    "ULV_predictions = alg.test(testset)"
   ]
  },
  {
   "cell_type": "code",
   "execution_count": 18,
   "metadata": {},
   "outputs": [
    {
     "name": "stdout",
     "output_type": "stream",
     "text": [
      "RMSE: 0.9506\n",
      "MAE:  0.7508\n"
     ]
    },
    {
     "data": {
      "text/plain": [
       "np.float64(0.7508227988444771)"
      ]
     },
     "execution_count": 18,
     "metadata": {},
     "output_type": "execute_result"
    }
   ],
   "source": [
    "accuracy.rmse(ULV_predictions)\n",
    "accuracy.mae(ULV_predictions)"
   ]
  },
  {
   "cell_type": "code",
   "execution_count": 15,
   "metadata": {},
   "outputs": [
    {
     "name": "stdout",
     "output_type": "stream",
     "text": [
      "Processing epoch 0\n",
      "mse =  1.08597185261679\n",
      "Processing epoch 1\n",
      "mse =  0.9571875553272479\n",
      "Processing epoch 2\n",
      "mse =  0.9177827281689976\n",
      "Processing epoch 3\n",
      "mse =  0.8975188474767893\n",
      "Processing epoch 4\n",
      "mse =  0.8848876645450408\n",
      "Processing epoch 5\n",
      "mse =  0.8762259843996526\n",
      "Processing epoch 6\n",
      "mse =  0.8699408875952502\n",
      "Processing epoch 7\n",
      "mse =  0.8652026421641973\n",
      "Processing epoch 8\n",
      "mse =  0.8615279395843344\n",
      "Processing epoch 9\n",
      "mse =  0.8586137095958961\n"
     ]
    }
   ],
   "source": [
    "alg = ULV_PSO(n_epochs=10,n_factors=5,verbose=True)\n",
    "alg.fit(trainset)\n",
    "ULV_PSO_predictions = alg.test(testset)"
   ]
  },
  {
   "cell_type": "code",
   "execution_count": 16,
   "metadata": {},
   "outputs": [
    {
     "name": "stdout",
     "output_type": "stream",
     "text": [
      "RMSE: 0.9507\n",
      "MAE:  0.7509\n"
     ]
    },
    {
     "data": {
      "text/plain": [
       "np.float64(0.7508575913264153)"
      ]
     },
     "execution_count": 16,
     "metadata": {},
     "output_type": "execute_result"
    }
   ],
   "source": [
    "accuracy.rmse(ULV_PSO_predictions)\n",
    "accuracy.mae(ULV_PSO_predictions)"
   ]
  }
 ],
 "metadata": {
  "kernelspec": {
   "display_name": "Python 3",
   "language": "python",
   "name": "python3"
  },
  "language_info": {
   "codemirror_mode": {
    "name": "ipython",
    "version": 3
   },
   "file_extension": ".py",
   "mimetype": "text/x-python",
   "name": "python",
   "nbconvert_exporter": "python",
   "pygments_lexer": "ipython3",
   "version": "3.13.0"
  },
  "orig_nbformat": 4
 },
 "nbformat": 4,
 "nbformat_minor": 2
}
