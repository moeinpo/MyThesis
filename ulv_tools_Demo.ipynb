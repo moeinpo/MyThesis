{
 "cells": [
  {
   "cell_type": "code",
   "execution_count": 3,
   "metadata": {},
   "outputs": [],
   "source": [
    "import numpy as np\n",
    "from scipy.io import loadmat\n",
    "from ulv_tools import hulv"
   ]
  },
  {
   "cell_type": "code",
   "execution_count": 6,
   "metadata": {},
   "outputs": [
    {
     "name": "stdout",
     "output_type": "stream",
     "text": [
      "['A', '__globals__', '__header__', '__version__', 'max_ref', 'tol_rank', 'tol_ref']\n"
     ]
    }
   ],
   "source": [
    "# test my py code on example of hulvdemo.m from UTVtools(coded in matlab)\n",
    "# load input and output of hulv.m of UTVtools that runed on matlab\n",
    "hulv_in  = loadmat('hulv_in.mat')\n",
    "print(sorted(hulv_in.keys()))\n",
    "\n",
    "max_ref = hulv_in['max_ref'][0,0]\n",
    "tol_rank = hulv_in['tol_rank'][0,0]\n",
    "tol_ref = hulv_in['tol_ref'][0,0]\n",
    "A = hulv_in['A']"
   ]
  },
  {
   "cell_type": "code",
   "execution_count": 7,
   "metadata": {},
   "outputs": [
    {
     "data": {
      "text/plain": [
       "(50, 20)"
      ]
     },
     "execution_count": 7,
     "metadata": {},
     "output_type": "execute_result"
    }
   ],
   "source": [
    "A.shape"
   ]
  },
  {
   "cell_type": "code",
   "execution_count": 8,
   "metadata": {},
   "outputs": [],
   "source": [
    "p,L,V,U = hulv(A,tol_rank,tol_ref,max_ref)"
   ]
  },
  {
   "cell_type": "code",
   "execution_count": 5,
   "metadata": {},
   "outputs": [
    {
     "name": "stdout",
     "output_type": "stream",
     "text": [
      "13\n"
     ]
    }
   ],
   "source": [
    "print(p)"
   ]
  },
  {
   "cell_type": "code",
   "execution_count": 9,
   "metadata": {},
   "outputs": [],
   "source": [
    "# check for A = U*L*V'\n",
    "\n",
    "A_ = np.dot(np.dot(U,L),np.transpose(V))"
   ]
  },
  {
   "cell_type": "code",
   "execution_count": 19,
   "metadata": {},
   "outputs": [
    {
     "name": "stdout",
     "output_type": "stream",
     "text": [
      " Input parameters to HULV \n",
      "\n",
      "............................................................\n",
      "\n",
      "no. rows m of A                     =  20 \n",
      "\n",
      "no. cols n of A                     =  50 \n",
      "\n",
      "rank tolerance (tol_rank)           = 1.0000e-03 \n",
      "\n",
      "refinement tolerance (tol_ref)      = 1.0000e-04 \n",
      "\n",
      "max refinement steps (max_ref)      =   2 \n",
      "\n",
      "............................................................\n",
      "\n",
      "\n",
      "\n",
      "Compute the rank-revealing ULV decomposition using \n",
      "\n",
      "Stewarts algorithm:  \n",
      "\n",
      "Done.  \n",
      "\n"
     ]
    }
   ],
   "source": [
    "# my another example\n",
    "\n",
    "\n",
    "\n",
    "#  Test matrix generation.\n",
    "m = 20\n",
    "n = 50\n",
    "\n",
    "B = np.random.randn(m,n)\n",
    "\n",
    "# Define input parameters.\n",
    "tol_rank = 0.001\n",
    "tol_ref  = 1e-04\n",
    "max_ref  = 2\n",
    "\n",
    "print(' Input parameters to HULV \\n')\n",
    "print('............................................................\\n')\n",
    "print('no. rows m of A                     = %3.0f \\n' % m)\n",
    "print('no. cols n of A                     = %3.0f \\n' % n)\n",
    "print('rank tolerance (tol_rank)           = %6.4e \\n' % tol_rank)\n",
    "print('refinement tolerance (tol_ref)      = %6.4e \\n' % tol_ref)\n",
    "print('max refinement steps (max_ref)      = %3.0f \\n' % max_ref)\n",
    "print('............................................................\\n')\n",
    "print('\\n');\n",
    "print('Compute the rank-revealing ULV decomposition using \\n')\n",
    "print('Stewart''s algorithm:  \\n')\n",
    "B=B.T\n",
    "# Compute ULV.\n",
    "_,L,V,U = hulv(B,tol_rank,tol_ref,max_ref)\n",
    "\n",
    "print('Done.  \\n')\n",
    "\n",
    "\n",
    "# check for A = U*L*V'\n",
    "\n",
    "B_ = np.dot(np.dot(U,L),np.transpose(V))\n"
   ]
  },
  {
   "cell_type": "code",
   "execution_count": 21,
   "metadata": {},
   "outputs": [
    {
     "data": {
      "text/plain": [
       "(50, 20)"
      ]
     },
     "execution_count": 21,
     "metadata": {},
     "output_type": "execute_result"
    }
   ],
   "source": [
    "U.shape"
   ]
  },
  {
   "cell_type": "code",
   "execution_count": 22,
   "metadata": {},
   "outputs": [
    {
     "data": {
      "text/plain": [
       "(20, 20)"
      ]
     },
     "execution_count": 22,
     "metadata": {},
     "output_type": "execute_result"
    }
   ],
   "source": [
    "V.shape"
   ]
  },
  {
   "cell_type": "code",
   "execution_count": 17,
   "metadata": {},
   "outputs": [
    {
     "data": {
      "text/plain": [
       "(20, 20)"
      ]
     },
     "execution_count": 17,
     "metadata": {},
     "output_type": "execute_result"
    }
   ],
   "source": [
    "L.shape"
   ]
  }
 ],
 "metadata": {
  "kernelspec": {
   "display_name": "Thesis",
   "language": "python",
   "name": "python3"
  },
  "language_info": {
   "codemirror_mode": {
    "name": "ipython",
    "version": 3
   },
   "file_extension": ".py",
   "mimetype": "text/x-python",
   "name": "python",
   "nbconvert_exporter": "python",
   "pygments_lexer": "ipython3",
   "version": "3.12.3"
  },
  "orig_nbformat": 4
 },
 "nbformat": 4,
 "nbformat_minor": 2
}
